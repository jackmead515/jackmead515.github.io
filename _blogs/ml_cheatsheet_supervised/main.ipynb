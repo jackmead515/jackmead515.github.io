{
 "cells": [
  {
   "cell_type": "markdown",
   "metadata": {},
   "source": [
    "# Machine Learning CheatSheet - Supervised Learning\n",
    "\n",
    "Topics:\n",
    "\n",
    "> Regression Vs Classification\n",
    "> Linear Regression\n",
    "> Polynomial Regression\n",
    "> Support Vector Machine\n",
    "> Laso Regression\n",
    "> Ridge Regression\n",
    "> Elastic Net\n",
    "> Logistic Regression\n",
    "> Decision Tree\n",
    "> Random Forest\n",
    "> K-Nearest Neighbors\n",
    "> Naive Bayes\n",
    "> Neural Network\n",
    "> Gradient Boosting\n",
    "> AdaBoost\n",
    "> XGBoost\n",
    "> LightGBM\n",
    "> Voting Classifier"
   ]
  }
 ],
 "metadata": {
  "language_info": {
   "name": "python"
  }
 },
 "nbformat": 4,
 "nbformat_minor": 2
}

{
 "cells": [
  {
   "cell_type": "markdown",
   "metadata": {},
   "source": [
    "# Machine Learning Cheat Sheet - Modeling\n",
    "\n",
    "Topics:\n",
    "\n",
    "> Data Preprocessing Techniques\n",
    "> Feature Selection Techniques\n",
    "> Feature Engineering Techniques\n",
    "> Model Regularization Techniques - L1, L2, Dropout, Batch Normalization, Shuffling, Early Stopping, Unbalanced Data, Lime, SMOTE.\n",
    "> Model Selection Techniques - Which model to choose?\n",
    "> Model Evaluation Techniques - How to evaluate the model? accuracy, precision, recall, f1-score, auc, roc, confusion matrix, etc.\n",
    "> Model Tuning Techniques - How to tune the model? grid search, random search, etc."
   ]
  }
 ],
 "metadata": {
  "language_info": {
   "name": "python"
  }
 },
 "nbformat": 4,
 "nbformat_minor": 2
}

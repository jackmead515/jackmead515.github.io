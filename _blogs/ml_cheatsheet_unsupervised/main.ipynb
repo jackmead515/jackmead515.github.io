{
 "cells": [
  {
   "cell_type": "markdown",
   "metadata": {},
   "source": [
    "# Machine Learning Cheatsheet - Unsupervised Learning\n",
    "\n",
    "Topics:\n",
    "\n",
    "> KNearst Neighbors\n",
    "> KMeans\n",
    "> PCA\n",
    "> MeanShift\n",
    "> DBSCAN\n",
    "> GaussianMixture\n",
    "> AgglomerativeClustering\n",
    "> SpectralClustering\n",
    "> TSNE\n",
    "> ISOMAP"
   ]
  }
 ],
 "metadata": {
  "language_info": {
   "name": "python"
  }
 },
 "nbformat": 4,
 "nbformat_minor": 2
}

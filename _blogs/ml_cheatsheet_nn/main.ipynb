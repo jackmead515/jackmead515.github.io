{
 "cells": [
  {
   "cell_type": "markdown",
   "metadata": {},
   "source": [
    "# Machine Learning Cheat Sheet - Neural Networks\n",
    "\n",
    "Topics:\n",
    "\n",
    "> Activation Functions\n",
    "> Loss Functions\n",
    "> Optimizers\n",
    "> Regularization\n",
    "> Transfer Learning\n",
    "> Data Augmentation\n",
    "> Convolutional Neural Networks - Depth, Pooling, Stride, Padding\n",
    "> Recurrent Neural Networks - LSTM, GRU, RNN"
   ]
  }
 ],
 "metadata": {
  "language_info": {
   "name": "python"
  }
 },
 "nbformat": 4,
 "nbformat_minor": 2
}
